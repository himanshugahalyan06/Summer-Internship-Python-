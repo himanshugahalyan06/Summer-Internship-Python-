{
 "cells": [
  {
   "cell_type": "code",
   "execution_count": null,
   "id": "a89cc8dd",
   "metadata": {},
   "outputs": [],
   "source": []
  }
 ],
 "metadata": {
  "kernelspec": {
   "display_name": "Python 3",
   "language": "python",
   "name": "python3"
  },
  "language_info": {
   "name": "python",
   "version": "3.11.8"
  }
 },
 "nbformat": 4,
 "nbformat_minor": 5
}
